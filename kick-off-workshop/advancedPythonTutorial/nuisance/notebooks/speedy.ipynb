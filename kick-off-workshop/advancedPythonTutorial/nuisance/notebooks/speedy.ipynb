{
 "cells": [
  {
   "cell_type": "code",
   "execution_count": 2,
   "metadata": {},
   "outputs": [],
   "source": [
    "# speedy.ipynb\n",
    "# Authors: Stephan Meighen-Berger\n",
    "# Testing different rotation implementations"
   ]
  },
  {
   "cell_type": "markdown",
   "metadata": {},
   "source": [
    "<a href=\"https://colab.research.google.com/github/mjg-phys/cdm-computing-subgroup/blob/main/advancedPythonTutorial/nuisance/notebooks/speedy.ipynb\" target=\"_parent\"><img src=\"https://colab.research.google.com/assets/colab-badge.svg\" alt=\"Open In Colab\"/></a>\n"
   ]
  },
  {
   "cell_type": "code",
   "execution_count": 3,
   "metadata": {},
   "outputs": [],
   "source": [
    "import numpy as np\n",
    "from numba import njit\n",
    "import timeit\n",
    "\n",
    "import jax\n",
    "import jax.numpy as jnp"
   ]
  },
  {
   "cell_type": "code",
   "execution_count": 4,
   "metadata": {},
   "outputs": [],
   "source": [
    "mixing_angles = np.array([\n",
    "    [1, 2, np.arcsin(np.sqrt(0.312)) / np.pi * 180.],\n",
    "    [1, 3, np.arcsin(np.sqrt(0.025)) / np.pi * 180., 0],  #  add cp violation here\n",
    "    [2, 3, np.arcsin(np.sqrt(0.420)) / np.pi * 180.],\n",
    "], dtype=object)"
   ]
  },
  {
   "cell_type": "code",
   "execution_count": 23,
   "metadata": {},
   "outputs": [],
   "source": [
    "def rotmatrix_inefficient(dim: int, i: int, j: int, ang: float, cp: float):\n",
    "    \"\"\" constructs a (Gell-Mann) rotational matrix ij with angle ang and cp violating phase cp\n",
    "    for symmetry i < j is required\n",
    "\n",
    "    Parameters\n",
    "    ----------\n",
    "    dim: int\n",
    "        Dimensions of the matrix\n",
    "    i, j: int\n",
    "        Positions of the matrix\n",
    "    ang: float\n",
    "        Angle of roration in radians\n",
    "    cp: float\n",
    "        CP violating phase\n",
    "\n",
    "    Returns\n",
    "    -------\n",
    "    rotmat: jax.numpy.array\n",
    "        The rotation matrix\n",
    "\n",
    "    Raises\n",
    "    ------\n",
    "    DimensionError:\n",
    "        The input dimensions dim, i, j are wrong\n",
    "    \"\"\"\n",
    "    # Building\n",
    "    R = np.eye(dim, dtype=np.complex128)\n",
    "    \n",
    "    if cp == 0:\n",
    "        for row in range(dim):\n",
    "            for col in range(dim):\n",
    "                if row == i and col == j:\n",
    "                    R[row, col] = np.sin(ang)\n",
    "                elif row == j and col == i:\n",
    "                    R[row, col] = -np.sin(ang)\n",
    "                elif row == col == i or row == col == j:\n",
    "                    R[row, col] = np.cos(ang)\n",
    "                else:\n",
    "                    continue  # AI had R[row, col] = 0.0\n",
    "    else:\n",
    "        for row in range(dim):\n",
    "            for col in range(dim):\n",
    "                if row == i and col == j:\n",
    "                    R[row, col] = np.sin(ang) * np.exp(-1j * cp)\n",
    "                elif row == j and col == i:\n",
    "                    R[row, col] = -np.sin(ang) * np.exp(1j * cp)\n",
    "                elif row == col == i or row == col == j:\n",
    "                    R[row, col] = np.cos(ang)\n",
    "                else:\n",
    "                    continue  # AI had R[row, col] = 0.0\n",
    "    return R\n",
    "\n",
    "def buildmixingmatrix_inefficient(params: np.ndarray) -> np.ndarray:\n",
    "    \"\"\" constructs the mixing matrix from the input parameters\n",
    "    for symmetry i < j is required\n",
    "\n",
    "    For CP-violating factors, use tuples like (i,j,theta_ij,delta_ij),\n",
    "    with delta_ij in degrees.\n",
    "\n",
    "    Parameters\n",
    "    ----------\n",
    "    params: jax.numpy.array\n",
    "        tuples descriping the mixing matrix.\n",
    "        The format of each tuple should be [i, j, theta_ij]\n",
    "\n",
    "    Returns\n",
    "    -------\n",
    "    mixing_matrix: jax.numpy.array\n",
    "        The mixing matrix constructed in revers order.\n",
    "        E.g. params = [(1,2,33.89),(1,3,9.12),(2,3,45.00)]\n",
    "        => U = R_23 . R_13 . R_12\n",
    "    \"\"\"\n",
    "    dim = max(np.array([par[1] for par in params]))\n",
    "    U = np.eye(dim)\n",
    "    # Applying the rotation matrices\n",
    "    for par in params:\n",
    "        if len(par) > 3:\n",
    "            U = np.dot(rotmatrix_inefficient(dim, par[0] - 1, par[1] - 1, np.deg2rad(par[2]), np.deg2rad(par[3])), U)\n",
    "        else:\n",
    "            U = np.dot(rotmatrix_inefficient(dim, par[0] - 1, par[1] - 1, np.deg2rad(par[2]) , 0), U)\n",
    "    return U"
   ]
  },
  {
   "cell_type": "code",
   "execution_count": 24,
   "metadata": {},
   "outputs": [],
   "source": [
    "# basis transform\n",
    "def rotmatrix(dim: int, i: int, j: int, ang: float, cp: float):\n",
    "    \"\"\" constructs a (Gell-Mann) rotational matrix ij with angle ang and cp violating phase cp\n",
    "    for symmetry i < j is required\n",
    "\n",
    "    Parameters\n",
    "    ----------\n",
    "    dim: int\n",
    "        Dimensions of the matrix\n",
    "    i,j: int\n",
    "        Positions of the matrix\n",
    "    ang: float\n",
    "        Angle of roration in radians\n",
    "    cp: float\n",
    "        CP violating phase\n",
    "\n",
    "    Returns\n",
    "    -------\n",
    "    rotmat: jax.numpy.array\n",
    "        The rotation matrix\n",
    "\n",
    "    Raises\n",
    "    ------\n",
    "    DimensionError:\n",
    "        The input dimensions dim, i, j are wrong\n",
    "    \"\"\"\n",
    "    # Building\n",
    "    if cp == 0:\n",
    "        R = np.eye(dim)\n",
    "        R[i, j] = np.sin(ang)\n",
    "        R[j, i] = -np.sin(ang)\n",
    "    else:\n",
    "        R = np.eye(dim, dtype='complex128')\n",
    "        R[i, j] = np.sin(ang) * np.exp(-1j * cp)\n",
    "        R[j, i] = -np.sin(ang) * np.exp(1j * cp)\n",
    "    R[i, i] = R[j, j] = np.cos(ang)\n",
    "    return R\n",
    "\n",
    "def buildmixingmatrix(params: np.ndarray) -> np.ndarray:\n",
    "    \"\"\" constructs the mixing matrix from the input parameters\n",
    "    for symmetry i < j is required\n",
    "\n",
    "    For CP-violating factors, use tuples like (i,j,theta_ij,delta_ij),\n",
    "    with delta_ij in degrees.\n",
    "\n",
    "    Parameters\n",
    "    ----------\n",
    "    params: jax.numpy.array\n",
    "        tuples descriping the mixing matrix.\n",
    "        The format of each tuple should be [i, j, theta_ij]\n",
    "\n",
    "    Returns\n",
    "    -------\n",
    "    mixing_matrix: jax.numpy.array\n",
    "        The mixing matrix constructed in revers order.\n",
    "        E.g. params = [(1,2,33.89),(1,3,9.12),(2,3,45.00)]\n",
    "        => U = R_23 . R_13 . R_12\n",
    "    \"\"\"\n",
    "    dim = max(np.array([par[1] for par in params]))\n",
    "    U = np.eye(dim)\n",
    "    # Applying the rotation matrices\n",
    "    for par in params:\n",
    "        if len(par) > 3:\n",
    "            U = np.dot(rotmatrix(dim, par[0] - 1, par[1] - 1, np.deg2rad(par[2]), np.deg2rad(par[3])), U)\n",
    "        else:\n",
    "            U = np.dot(rotmatrix(dim, par[0] - 1, par[1] - 1, np.deg2rad(par[2]) , 0), U)\n",
    "    return U"
   ]
  },
  {
   "cell_type": "code",
   "execution_count": 25,
   "metadata": {},
   "outputs": [],
   "source": [
    "@njit\n",
    "def rotmatrix_jit(dim: int, i: int, j: int, ang: float, cp: float) -> np.ndarray:\n",
    "    \"\"\" constructs a (Gell-Mann) rotational matrix ij with angle ang\n",
    "    and cp violating phase cp for symmetry i < j is required\n",
    "\n",
    "    Parameters\n",
    "    ----------\n",
    "    dim: int\n",
    "        Dimensions of the matrix\n",
    "    i,j: int\n",
    "        Positions of the matrix\n",
    "    ang: float\n",
    "        Angle of roration in radians\n",
    "    cp: float\n",
    "        CP violating phase\n",
    "\n",
    "    Returns\n",
    "    -------\n",
    "    rotmat: jax.numpy.array\n",
    "        The rotation matrix\n",
    "\n",
    "    Raises\n",
    "    ------\n",
    "    DimensionError:\n",
    "        The input dimensions dim, i, j are wrong\n",
    "    \"\"\"\n",
    "    # Building\n",
    "    R = np.eye(int(dim), dtype=np.complex128)\n",
    "    R[i, j] = np.sin(ang) * np.exp(-1j * cp)\n",
    "    R[j, i] = -np.sin(ang) * np.exp(1j * cp)\n",
    "    R[i, i] = R[j, j] = np.cos(ang)\n",
    "    return R\n",
    "\n",
    "def buildmixingmatrix_jit(params: np.ndarray) -> np.ndarray:\n",
    "    \"\"\" constructs the mixing matrix from the input parameters\n",
    "    for symmetry i < j is required\n",
    "\n",
    "    For CP-violating factors, use tuples like (i,j,theta_ij,delta_ij),\n",
    "    with delta_ij in degrees.\n",
    "\n",
    "    Parameters\n",
    "    ----------\n",
    "    params: jax.numpy.array\n",
    "        tuples descriping the mixing matrix.\n",
    "        The format of each tuple should be [i, j, theta_ij]\n",
    "\n",
    "    Returns\n",
    "    -------\n",
    "    mixing_matrix: jax.numpy.array\n",
    "        The mixing matrix constructed in revers order.\n",
    "        E.g. params = [(1,2,33.89),(1,3,9.12),(2,3,45.00)]\n",
    "        => U = R_23 . R_13 . R_12\n",
    "    \"\"\"\n",
    "    dim = max(np.array([par[1] for par in params]))\n",
    "    U = np.eye(dim)\n",
    "    # Applying the rotation matrices\n",
    "    for par in params:\n",
    "        if len(par) > 3:\n",
    "            U = np.dot(rotmatrix_jit(dim, par[0] - 1, par[1] - 1, np.deg2rad(par[2]), np.deg2rad(par[3])), U)\n",
    "        else:\n",
    "            U = np.dot(rotmatrix_jit(dim, par[0] - 1, par[1] - 1, np.deg2rad(par[2]) , 0), U)\n",
    "    return U"
   ]
  },
  {
   "cell_type": "code",
   "execution_count": 26,
   "metadata": {},
   "outputs": [],
   "source": [
    "@jax.jit\n",
    "def rotmatrix_jax(i: int, j: int, ang: float, cp: float) -> jnp.ndarray:\n",
    "    \"\"\" constructs a (Gell-Mann) rotational matrix ij with angle ang\n",
    "    and cp violating phase cp for symmetry i < j is required\n",
    "\n",
    "    Parameters\n",
    "    ----------\n",
    "    dim: int\n",
    "        Dimensions of the matrix\n",
    "    i, j: int\n",
    "        Positions of the matrix\n",
    "    ang: float\n",
    "        Angle of rotation in radians\n",
    "    cp: float\n",
    "        CP violating phase\n",
    "\n",
    "    Returns\n",
    "    -------\n",
    "    rotmat: jax.numpy.array\n",
    "        The rotation matrix\n",
    "\n",
    "    Raises\n",
    "    ------\n",
    "    DimensionError:\n",
    "        The input dimensions dim, i, j are wrong\n",
    "    \"\"\"\n",
    "    # Building\n",
    "    R = jnp.eye(3, dtype=jnp.complex64)\n",
    "    # Equal is required otherwise nothing happens!\n",
    "    R = R.at[i, j].set(jnp.sin(ang) * jnp.exp(-1j * cp))\n",
    "    R = R.at[j, i].set(-jnp.sin(ang) * jnp.exp(1j * cp))\n",
    "    R = R.at[i, i].set(jnp.cos(ang))\n",
    "    R = R.at[j, j].set(jnp.cos(ang))\n",
    "    return R\n",
    "\n",
    "def buildmixingmatrix_jax(params: np.ndarray) -> np.ndarray:\n",
    "    \"\"\" constructs the mixing matrix from the input parameters\n",
    "    for symmetry i < j is required\n",
    "\n",
    "    For CP-violating factors, use tuples like (i,j,theta_ij,delta_ij),\n",
    "    with delta_ij in degrees.\n",
    "\n",
    "    Parameters\n",
    "    ----------\n",
    "    params: jax.numpy.array\n",
    "        tuples descriping the mixing matrix.\n",
    "        The format of each tuple should be [i, j, theta_ij]\n",
    "\n",
    "    Returns\n",
    "    -------\n",
    "    mixing_matrix: jax.numpy.array\n",
    "        The mixing matrix constructed in revers order.\n",
    "        E.g. params = [(1,2,33.89),(1,3,9.12),(2,3,45.00)]\n",
    "        => U = R_23 . R_13 . R_12\n",
    "    \"\"\"\n",
    "    dim = 3\n",
    "    U = jnp.eye(dim)\n",
    "    # Applying the rotation matrices\n",
    "    for par in params:\n",
    "        if len(par) > 3:\n",
    "            U = jnp.dot(rotmatrix_jax(par[0] - 1, par[1] - 1, np.deg2rad(par[2]), np.deg2rad(par[3])), U)\n",
    "        else:\n",
    "            U = jnp.dot(rotmatrix_jax(par[0] - 1, par[1] - 1, np.deg2rad(par[2]), 0), U)\n",
    "    return U"
   ]
  },
  {
   "cell_type": "code",
   "execution_count": 27,
   "metadata": {},
   "outputs": [
    {
     "data": {
      "text/plain": [
       "array([[ 0.81902381+0.j,  0.55154329+0.j,  0.15811388+0.j],\n",
       "       [-0.51038805+0.j,  0.57445978+0.j,  0.63992187+0.j],\n",
       "       [ 0.26211455+0.j, -0.60481068+0.j,  0.75199734+0.j]])"
      ]
     },
     "execution_count": 27,
     "metadata": {},
     "output_type": "execute_result"
    }
   ],
   "source": [
    "buildmixingmatrix_inefficient(mixing_angles)"
   ]
  },
  {
   "cell_type": "code",
   "execution_count": 28,
   "metadata": {},
   "outputs": [
    {
     "data": {
      "text/plain": [
       "array([[ 0.81902381,  0.55154329,  0.15811388],\n",
       "       [-0.51038805,  0.57445978,  0.63992187],\n",
       "       [ 0.26211455, -0.60481068,  0.75199734]])"
      ]
     },
     "execution_count": 28,
     "metadata": {},
     "output_type": "execute_result"
    }
   ],
   "source": [
    "buildmixingmatrix(mixing_angles)"
   ]
  },
  {
   "cell_type": "code",
   "execution_count": 10,
   "metadata": {},
   "outputs": [],
   "source": [
    "# Chat GPT rewrote it to be wrong!\n",
    "def testing_inefficient():\n",
    "    buildmixingmatrix_inefficient(mixing_angles)\n",
    "testing_inefficient()"
   ]
  },
  {
   "cell_type": "code",
   "execution_count": 11,
   "metadata": {},
   "outputs": [
    {
     "ename": "KeyboardInterrupt",
     "evalue": "",
     "output_type": "error",
     "traceback": [
      "\u001b[0;31m---------------------------------------------------------------------------\u001b[0m",
      "\u001b[0;31mKeyboardInterrupt\u001b[0m                         Traceback (most recent call last)",
      "Cell \u001b[0;32mIn[11], line 1\u001b[0m\n\u001b[0;32m----> 1\u001b[0m \u001b[38;5;28mprint\u001b[39m(\u001b[43mtimeit\u001b[49m\u001b[38;5;241;43m.\u001b[39;49m\u001b[43mtimeit\u001b[49m\u001b[43m(\u001b[49m\u001b[38;5;124;43m\"\u001b[39;49m\u001b[38;5;124;43mtesting_inefficient()\u001b[39;49m\u001b[38;5;124;43m\"\u001b[39;49m\u001b[43m,\u001b[49m\u001b[43m \u001b[49m\u001b[38;5;28;43mglobals\u001b[39;49m\u001b[38;5;241;43m=\u001b[39;49m\u001b[38;5;28;43mlocals\u001b[39;49m\u001b[43m(\u001b[49m\u001b[43m)\u001b[49m\u001b[43m,\u001b[49m\u001b[43m \u001b[49m\u001b[43mnumber\u001b[49m\u001b[38;5;241;43m=\u001b[39;49m\u001b[38;5;241;43m1000000\u001b[39;49m\u001b[43m)\u001b[49m)\n\u001b[1;32m      2\u001b[0m \u001b[38;5;28mprint\u001b[39m(timeit\u001b[38;5;241m.\u001b[39mtimeit(\u001b[38;5;124m\"\u001b[39m\u001b[38;5;124mtesting_inefficient()\u001b[39m\u001b[38;5;124m\"\u001b[39m, \u001b[38;5;28mglobals\u001b[39m\u001b[38;5;241m=\u001b[39m\u001b[38;5;28mlocals\u001b[39m(), number\u001b[38;5;241m=\u001b[39m\u001b[38;5;241m1\u001b[39m))\n",
      "File \u001b[0;32m/usr/lib/python3.10/timeit.py:234\u001b[0m, in \u001b[0;36mtimeit\u001b[0;34m(stmt, setup, timer, number, globals)\u001b[0m\n\u001b[1;32m    231\u001b[0m \u001b[38;5;28;01mdef\u001b[39;00m \u001b[38;5;21mtimeit\u001b[39m(stmt\u001b[38;5;241m=\u001b[39m\u001b[38;5;124m\"\u001b[39m\u001b[38;5;124mpass\u001b[39m\u001b[38;5;124m\"\u001b[39m, setup\u001b[38;5;241m=\u001b[39m\u001b[38;5;124m\"\u001b[39m\u001b[38;5;124mpass\u001b[39m\u001b[38;5;124m\"\u001b[39m, timer\u001b[38;5;241m=\u001b[39mdefault_timer,\n\u001b[1;32m    232\u001b[0m            number\u001b[38;5;241m=\u001b[39mdefault_number, \u001b[38;5;28mglobals\u001b[39m\u001b[38;5;241m=\u001b[39m\u001b[38;5;28;01mNone\u001b[39;00m):\n\u001b[1;32m    233\u001b[0m \u001b[38;5;250m    \u001b[39m\u001b[38;5;124;03m\"\"\"Convenience function to create Timer object and call timeit method.\"\"\"\u001b[39;00m\n\u001b[0;32m--> 234\u001b[0m     \u001b[38;5;28;01mreturn\u001b[39;00m \u001b[43mTimer\u001b[49m\u001b[43m(\u001b[49m\u001b[43mstmt\u001b[49m\u001b[43m,\u001b[49m\u001b[43m \u001b[49m\u001b[43msetup\u001b[49m\u001b[43m,\u001b[49m\u001b[43m \u001b[49m\u001b[43mtimer\u001b[49m\u001b[43m,\u001b[49m\u001b[43m \u001b[49m\u001b[38;5;28;43mglobals\u001b[39;49m\u001b[43m)\u001b[49m\u001b[38;5;241;43m.\u001b[39;49m\u001b[43mtimeit\u001b[49m\u001b[43m(\u001b[49m\u001b[43mnumber\u001b[49m\u001b[43m)\u001b[49m\n",
      "File \u001b[0;32m/usr/lib/python3.10/timeit.py:178\u001b[0m, in \u001b[0;36mTimer.timeit\u001b[0;34m(self, number)\u001b[0m\n\u001b[1;32m    176\u001b[0m gc\u001b[38;5;241m.\u001b[39mdisable()\n\u001b[1;32m    177\u001b[0m \u001b[38;5;28;01mtry\u001b[39;00m:\n\u001b[0;32m--> 178\u001b[0m     timing \u001b[38;5;241m=\u001b[39m \u001b[38;5;28;43mself\u001b[39;49m\u001b[38;5;241;43m.\u001b[39;49m\u001b[43minner\u001b[49m\u001b[43m(\u001b[49m\u001b[43mit\u001b[49m\u001b[43m,\u001b[49m\u001b[43m \u001b[49m\u001b[38;5;28;43mself\u001b[39;49m\u001b[38;5;241;43m.\u001b[39;49m\u001b[43mtimer\u001b[49m\u001b[43m)\u001b[49m\n\u001b[1;32m    179\u001b[0m \u001b[38;5;28;01mfinally\u001b[39;00m:\n\u001b[1;32m    180\u001b[0m     \u001b[38;5;28;01mif\u001b[39;00m gcold:\n",
      "File \u001b[0;32m<timeit-src>:6\u001b[0m, in \u001b[0;36minner\u001b[0;34m(_it, _timer)\u001b[0m\n",
      "Cell \u001b[0;32mIn[10], line 3\u001b[0m, in \u001b[0;36mtesting_inefficient\u001b[0;34m()\u001b[0m\n\u001b[1;32m      2\u001b[0m \u001b[38;5;28;01mdef\u001b[39;00m \u001b[38;5;21mtesting_inefficient\u001b[39m():\n\u001b[0;32m----> 3\u001b[0m     \u001b[43mbuildmixingmatrix_inefficient\u001b[49m\u001b[43m(\u001b[49m\u001b[43mmixing_angles\u001b[49m\u001b[43m)\u001b[49m\n",
      "Cell \u001b[0;32mIn[5], line 80\u001b[0m, in \u001b[0;36mbuildmixingmatrix_inefficient\u001b[0;34m(params)\u001b[0m\n\u001b[1;32m     78\u001b[0m         U \u001b[38;5;241m=\u001b[39m np\u001b[38;5;241m.\u001b[39mdot(rotmatrix_inefficient(dim, par[\u001b[38;5;241m0\u001b[39m] \u001b[38;5;241m-\u001b[39m \u001b[38;5;241m1\u001b[39m, par[\u001b[38;5;241m1\u001b[39m] \u001b[38;5;241m-\u001b[39m \u001b[38;5;241m1\u001b[39m, np\u001b[38;5;241m.\u001b[39mdeg2rad(par[\u001b[38;5;241m2\u001b[39m]), np\u001b[38;5;241m.\u001b[39mdeg2rad(par[\u001b[38;5;241m3\u001b[39m])), U)\n\u001b[1;32m     79\u001b[0m     \u001b[38;5;28;01melse\u001b[39;00m:\n\u001b[0;32m---> 80\u001b[0m         U \u001b[38;5;241m=\u001b[39m np\u001b[38;5;241m.\u001b[39mdot(\u001b[43mrotmatrix_inefficient\u001b[49m\u001b[43m(\u001b[49m\u001b[43mdim\u001b[49m\u001b[43m,\u001b[49m\u001b[43m \u001b[49m\u001b[43mpar\u001b[49m\u001b[43m[\u001b[49m\u001b[38;5;241;43m0\u001b[39;49m\u001b[43m]\u001b[49m\u001b[43m \u001b[49m\u001b[38;5;241;43m-\u001b[39;49m\u001b[43m \u001b[49m\u001b[38;5;241;43m1\u001b[39;49m\u001b[43m,\u001b[49m\u001b[43m \u001b[49m\u001b[43mpar\u001b[49m\u001b[43m[\u001b[49m\u001b[38;5;241;43m1\u001b[39;49m\u001b[43m]\u001b[49m\u001b[43m \u001b[49m\u001b[38;5;241;43m-\u001b[39;49m\u001b[43m \u001b[49m\u001b[38;5;241;43m1\u001b[39;49m\u001b[43m,\u001b[49m\u001b[43m \u001b[49m\u001b[43mnp\u001b[49m\u001b[38;5;241;43m.\u001b[39;49m\u001b[43mdeg2rad\u001b[49m\u001b[43m(\u001b[49m\u001b[43mpar\u001b[49m\u001b[43m[\u001b[49m\u001b[38;5;241;43m2\u001b[39;49m\u001b[43m]\u001b[49m\u001b[43m)\u001b[49m\u001b[43m \u001b[49m\u001b[43m,\u001b[49m\u001b[43m \u001b[49m\u001b[38;5;241;43m0\u001b[39;49m\u001b[43m)\u001b[49m, U)\n\u001b[1;32m     81\u001b[0m \u001b[38;5;28;01mreturn\u001b[39;00m U\n",
      "Cell \u001b[0;32mIn[5], line 27\u001b[0m, in \u001b[0;36mrotmatrix_inefficient\u001b[0;34m(dim, i, j, ang, cp)\u001b[0m\n\u001b[1;32m      2\u001b[0m \u001b[38;5;250m\u001b[39m\u001b[38;5;124;03m\"\"\" constructs a (Gell-Mann) rotational matrix ij with angle ang and cp violating phase cp\u001b[39;00m\n\u001b[1;32m      3\u001b[0m \u001b[38;5;124;03mfor symmetry i < j is required\u001b[39;00m\n\u001b[1;32m      4\u001b[0m \n\u001b[0;32m   (...)\u001b[0m\n\u001b[1;32m     24\u001b[0m \u001b[38;5;124;03m    The input dimensions dim, i, j are wrong\u001b[39;00m\n\u001b[1;32m     25\u001b[0m \u001b[38;5;124;03m\"\"\"\u001b[39;00m\n\u001b[1;32m     26\u001b[0m \u001b[38;5;66;03m# Building\u001b[39;00m\n\u001b[0;32m---> 27\u001b[0m R \u001b[38;5;241m=\u001b[39m \u001b[43mnp\u001b[49m\u001b[38;5;241;43m.\u001b[39;49m\u001b[43meye\u001b[49m\u001b[43m(\u001b[49m\u001b[43mdim\u001b[49m\u001b[43m,\u001b[49m\u001b[43m \u001b[49m\u001b[43mdtype\u001b[49m\u001b[38;5;241;43m=\u001b[39;49m\u001b[43mnp\u001b[49m\u001b[38;5;241;43m.\u001b[39;49m\u001b[43mcomplex128\u001b[49m\u001b[43m)\u001b[49m\n\u001b[1;32m     29\u001b[0m \u001b[38;5;28;01mif\u001b[39;00m cp \u001b[38;5;241m==\u001b[39m \u001b[38;5;241m0\u001b[39m:\n\u001b[1;32m     30\u001b[0m     \u001b[38;5;28;01mfor\u001b[39;00m row \u001b[38;5;129;01min\u001b[39;00m \u001b[38;5;28mrange\u001b[39m(dim):\n",
      "File \u001b[0;32m~/envs/nuisance/lib/python3.10/site-packages/numpy/lib/twodim_base.py:158\u001b[0m, in \u001b[0;36meye\u001b[0;34m(N, M, k, dtype, order, like)\u001b[0m\n\u001b[1;32m    154\u001b[0m         \u001b[38;5;28;01mraise\u001b[39;00m \u001b[38;5;167;01mValueError\u001b[39;00m(\u001b[38;5;124m\"\u001b[39m\u001b[38;5;124mInput must be >= 1-d.\u001b[39m\u001b[38;5;124m\"\u001b[39m)\n\u001b[1;32m    155\u001b[0m     \u001b[38;5;28;01mreturn\u001b[39;00m m[::\u001b[38;5;241m-\u001b[39m\u001b[38;5;241m1\u001b[39m, \u001b[38;5;241m.\u001b[39m\u001b[38;5;241m.\u001b[39m\u001b[38;5;241m.\u001b[39m]\n\u001b[0;32m--> 158\u001b[0m \u001b[38;5;129m@set_array_function_like_doc\u001b[39m\n\u001b[1;32m    159\u001b[0m \u001b[38;5;129m@set_module\u001b[39m(\u001b[38;5;124m'\u001b[39m\u001b[38;5;124mnumpy\u001b[39m\u001b[38;5;124m'\u001b[39m)\n\u001b[1;32m    160\u001b[0m \u001b[38;5;28;01mdef\u001b[39;00m \u001b[38;5;21meye\u001b[39m(N, M\u001b[38;5;241m=\u001b[39m\u001b[38;5;28;01mNone\u001b[39;00m, k\u001b[38;5;241m=\u001b[39m\u001b[38;5;241m0\u001b[39m, dtype\u001b[38;5;241m=\u001b[39m\u001b[38;5;28mfloat\u001b[39m, order\u001b[38;5;241m=\u001b[39m\u001b[38;5;124m'\u001b[39m\u001b[38;5;124mC\u001b[39m\u001b[38;5;124m'\u001b[39m, \u001b[38;5;241m*\u001b[39m, like\u001b[38;5;241m=\u001b[39m\u001b[38;5;28;01mNone\u001b[39;00m):\n\u001b[1;32m    161\u001b[0m \u001b[38;5;250m    \u001b[39m\u001b[38;5;124;03m\"\"\"\u001b[39;00m\n\u001b[1;32m    162\u001b[0m \u001b[38;5;124;03m    Return a 2-D array with ones on the diagonal and zeros elsewhere.\u001b[39;00m\n\u001b[1;32m    163\u001b[0m \n\u001b[0;32m   (...)\u001b[0m\n\u001b[1;32m    205\u001b[0m \n\u001b[1;32m    206\u001b[0m \u001b[38;5;124;03m    \"\"\"\u001b[39;00m\n\u001b[1;32m    207\u001b[0m     \u001b[38;5;28;01mif\u001b[39;00m like \u001b[38;5;129;01mis\u001b[39;00m \u001b[38;5;129;01mnot\u001b[39;00m \u001b[38;5;28;01mNone\u001b[39;00m:\n",
      "\u001b[0;31mKeyboardInterrupt\u001b[0m: "
     ]
    }
   ],
   "source": [
    "print(timeit.timeit(\"testing_inefficient()\", globals=locals(), number=1000000))\n",
    "print(timeit.timeit(\"testing_inefficient()\", globals=locals(), number=1))"
   ]
  },
  {
   "cell_type": "code",
   "execution_count": null,
   "metadata": {},
   "outputs": [],
   "source": [
    "def testing():\n",
    "    buildmixingmatrix(mixing_angles)\n",
    "testing()"
   ]
  },
  {
   "cell_type": "code",
   "execution_count": null,
   "metadata": {},
   "outputs": [
    {
     "name": "stdout",
     "output_type": "stream",
     "text": [
      "14.541723359999992\n",
      "4.708500000560889e-05\n"
     ]
    }
   ],
   "source": [
    "print(timeit.timeit(\"testing()\", globals=locals(), number=1000000))\n",
    "print(timeit.timeit(\"testing()\", globals=locals(), number=1))"
   ]
  },
  {
   "cell_type": "code",
   "execution_count": null,
   "metadata": {},
   "outputs": [],
   "source": [
    "# Need to run jit once\n",
    "def testing_jit():\n",
    "    buildmixingmatrix_jit(mixing_angles)\n",
    "testing_jit()"
   ]
  },
  {
   "cell_type": "code",
   "execution_count": null,
   "metadata": {},
   "outputs": [
    {
     "name": "stdout",
     "output_type": "stream",
     "text": [
      "9.660977402999947\n",
      "3.727099999650818e-05\n"
     ]
    }
   ],
   "source": [
    "print(timeit.timeit(\"testing_jit()\", globals=locals(), number=1000000))\n",
    "print(timeit.timeit(\"testing_jit()\", globals=locals(), number=1))"
   ]
  },
  {
   "cell_type": "code",
   "execution_count": null,
   "metadata": {},
   "outputs": [],
   "source": [
    "# Need to run jit once\n",
    "# Chat GPT rewrote it to be wrong!\n",
    "def testing_jax():\n",
    "    buildmixingmatrix_jax(mixing_angles)\n",
    "testing_jax()"
   ]
  },
  {
   "cell_type": "code",
   "execution_count": null,
   "metadata": {},
   "outputs": [
    {
     "data": {
      "text/plain": [
       "0.0012558700000226963"
      ]
     },
     "execution_count": 14,
     "metadata": {},
     "output_type": "execute_result"
    }
   ],
   "source": [
    "timeit.timeit(\"testing_jax()\", globals=locals(), number=1)"
   ]
  },
  {
   "cell_type": "code",
   "execution_count": null,
   "metadata": {},
   "outputs": [],
   "source": [
    "# Got this from ChatGPT doesnt work!\n",
    "# Index_update doesn't exist (anymore) for a while\n",
    "# in a jitted function dimensions need to be static\n",
    "# \n",
    "# import jax\n",
    "# import jax.numpy as jnp\n",
    "# \n",
    "# @jax.jit\n",
    "# def rotmatrix_jit_optimized(dim: int, i: int, j: int, ang: float, cp: float) -> jnp.ndarray:\n",
    "#     \"\"\" constructs a (Gell-Mann) rotational matrix ij with angle ang\n",
    "#     and cp violating phase cp for symmetry i < j is required\n",
    "# \n",
    "#     Parameters\n",
    "#     ----------\n",
    "#     dim: int\n",
    "#         Dimensions of the matrix\n",
    "#     i, j: int\n",
    "#         Positions of the matrix\n",
    "#     ang: float\n",
    "#         Angle of rotation in radians\n",
    "#     cp: float\n",
    "#         CP violating phase\n",
    "# \n",
    "#     Returns\n",
    "#     -------\n",
    "#     rotmat: jax.numpy.array\n",
    "#         The rotation matrix\n",
    "# \n",
    "#     Raises\n",
    "#     ------\n",
    "#     DimensionError:\n",
    "#         The input dimensions dim, i, j are wrong\n",
    "#     \"\"\"\n",
    "#     # Building\n",
    "#     R = jnp.eye(dim, dtype=jnp.complex128)\n",
    "#     R = jax.ops.index_update(R, jax.ops.index[i, j], jnp.sin(ang) * jnp.exp(-1j * cp))\n",
    "#     R = jax.ops.index_update(R, jax.ops.index[j, i], -jnp.sin(ang) * jnp.exp(1j * cp))\n",
    "#     R = jax.ops.index_update(R, jax.ops.index[i, i], jnp.cos(ang))\n",
    "#     R = jax.ops.index_update(R, jax.ops.index[j, j], jnp.cos(ang))\n",
    "#     return R"
   ]
  },
  {
   "cell_type": "code",
   "execution_count": null,
   "metadata": {},
   "outputs": [],
   "source": []
  }
 ],
 "metadata": {
  "kernelspec": {
   "display_name": "nuisance",
   "language": "python",
   "name": "python3"
  },
  "language_info": {
   "codemirror_mode": {
    "name": "ipython",
    "version": 3
   },
   "file_extension": ".py",
   "mimetype": "text/x-python",
   "name": "python",
   "nbconvert_exporter": "python",
   "pygments_lexer": "ipython3",
   "version": "3.10.12"
  }
 },
 "nbformat": 4,
 "nbformat_minor": 2
}

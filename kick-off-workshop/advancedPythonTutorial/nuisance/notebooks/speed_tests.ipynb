{
 "cells": [
  {
   "cell_type": "code",
   "execution_count": 1,
   "metadata": {},
   "outputs": [],
   "source": [
    "# speed_tests.ipynb\n",
    "# Authors: Stephan Meighen-Berger\n",
    "# Testing different rotation implementations"
   ]
  },
  {
   "cell_type": "markdown",
   "metadata": {},
   "source": [
    "<a href=\"https://colab.research.google.com/github/mjg-phys/cdm-computing-subgroup/blob/main/advancedPythonTutorial/nuisance/notebooks/speed_tests.ipynb\" target=\"_parent\"><img src=\"https://colab.research.google.com/assets/colab-badge.svg\" alt=\"Open In Colab\"/></a>\n"
   ]
  },
  {
   "cell_type": "code",
   "execution_count": 2,
   "metadata": {},
   "outputs": [],
   "source": [
    "import numpy as np\n",
    "import timeit"
   ]
  },
  {
   "cell_type": "code",
   "execution_count": 3,
   "metadata": {},
   "outputs": [],
   "source": [
    "mixing_angles = np.array([\n",
    "    [1, 2, np.arcsin(np.sqrt(0.312)) / np.pi * 180.],\n",
    "    [1, 3, np.arcsin(np.sqrt(0.025)) / np.pi * 180., 0],  #  add cp violation here\n",
    "    [2, 3, np.arcsin(np.sqrt(0.420)) / np.pi * 180.],\n",
    "], dtype=object)"
   ]
  },
  {
   "cell_type": "code",
   "execution_count": 4,
   "metadata": {},
   "outputs": [],
   "source": [
    "def rotmatrix_inefficient(dim: int, i: int, j: int, ang: float, cp: float):\n",
    "    \"\"\" constructs a (Gell-Mann) rotational matrix ij with angle ang and cp violating phase cp\n",
    "    for symmetry i < j is required\n",
    "\n",
    "    Parameters\n",
    "    ----------\n",
    "    dim: int\n",
    "        Dimensions of the matrix\n",
    "    i, j: int\n",
    "        Positions of the matrix\n",
    "    ang: float\n",
    "        Angle of roration in radians\n",
    "    cp: float\n",
    "        CP violating phase\n",
    "\n",
    "    Returns\n",
    "    -------\n",
    "    rotmat: jax.numpy.array\n",
    "        The rotation matrix\n",
    "\n",
    "    Raises\n",
    "    ------\n",
    "    DimensionError:\n",
    "        The input dimensions dim, i, j are wrong\n",
    "    \"\"\"\n",
    "    # Building\n",
    "    R = np.eye(dim, dtype=np.complex128)\n",
    "    \n",
    "    if cp == 0:\n",
    "        for row in range(dim):\n",
    "            for col in range(dim):\n",
    "                if row == i and col == j:\n",
    "                    R[row, col] = np.sin(ang)\n",
    "                elif row == j and col == i:\n",
    "                    R[row, col] = -np.sin(ang)\n",
    "                elif row == col == i or row == col == j:\n",
    "                    R[row, col] = np.cos(ang)\n",
    "                else:\n",
    "                    continue  # AI had R[row, col] = 0.0\n",
    "    else:\n",
    "        for row in range(dim):\n",
    "            for col in range(dim):\n",
    "                if row == i and col == j:\n",
    "                    R[row, col] = np.sin(ang) * np.exp(-1j * cp)\n",
    "                elif row == j and col == i:\n",
    "                    R[row, col] = -np.sin(ang) * np.exp(1j * cp)\n",
    "                elif row == col == i or row == col == j:\n",
    "                    R[row, col] = np.cos(ang)\n",
    "                else:\n",
    "                    continue  # AI had R[row, col] = 0.0\n",
    "    return R\n",
    "\n",
    "def buildmixingmatrix_inefficient(params: np.ndarray) -> np.ndarray:\n",
    "    \"\"\" constructs the mixing matrix from the input parameters\n",
    "    for symmetry i < j is required\n",
    "\n",
    "    For CP-violating factors, use tuples like (i,j,theta_ij,delta_ij),\n",
    "    with delta_ij in degrees.\n",
    "\n",
    "    Parameters\n",
    "    ----------\n",
    "    params: jax.numpy.array\n",
    "        tuples descriping the mixing matrix.\n",
    "        The format of each tuple should be [i, j, theta_ij]\n",
    "\n",
    "    Returns\n",
    "    -------\n",
    "    mixing_matrix: jax.numpy.array\n",
    "        The mixing matrix constructed in revers order.\n",
    "        E.g. params = [(1,2,33.89),(1,3,9.12),(2,3,45.00)]\n",
    "        => U = R_23 . R_13 . R_12\n",
    "    \"\"\"\n",
    "    dim = max(np.array([par[1] for par in params]))\n",
    "    U = np.eye(dim)\n",
    "    # Applying the rotation matrices\n",
    "    for par in params:\n",
    "        if len(par) > 3:\n",
    "            U = np.dot(rotmatrix_inefficient(dim, par[0] - 1, par[1] - 1, np.deg2rad(par[2]), np.deg2rad(par[3])), U)\n",
    "        else:\n",
    "            U = np.dot(rotmatrix_inefficient(dim, par[0] - 1, par[1] - 1, np.deg2rad(par[2]) , 0), U)\n",
    "    return U"
   ]
  },
  {
   "cell_type": "code",
   "execution_count": 5,
   "metadata": {},
   "outputs": [],
   "source": [
    "# Chat GPT rewrote it to be wrong!\n",
    "def testing_inefficient():\n",
    "    buildmixingmatrix_inefficient(mixing_angles)\n",
    "testing_inefficient()"
   ]
  },
  {
   "cell_type": "code",
   "execution_count": 6,
   "metadata": {},
   "outputs": [
    {
     "name": "stdout",
     "output_type": "stream",
     "text": [
      "21.644977496005595\n",
      "5.574498209170997e-05\n"
     ]
    }
   ],
   "source": [
    "print(timeit.timeit(\"testing_inefficient()\", globals=locals(), number=1000000))\n",
    "print(timeit.timeit(\"testing_inefficient()\", globals=locals(), number=1))"
   ]
  },
  {
   "cell_type": "code",
   "execution_count": null,
   "metadata": {},
   "outputs": [],
   "source": []
  }
 ],
 "metadata": {
  "kernelspec": {
   "display_name": "nuisance",
   "language": "python",
   "name": "python3"
  },
  "language_info": {
   "codemirror_mode": {
    "name": "ipython",
    "version": 3
   },
   "file_extension": ".py",
   "mimetype": "text/x-python",
   "name": "python",
   "nbconvert_exporter": "python",
   "pygments_lexer": "ipython3",
   "version": "3.10.12"
  }
 },
 "nbformat": 4,
 "nbformat_minor": 2
}

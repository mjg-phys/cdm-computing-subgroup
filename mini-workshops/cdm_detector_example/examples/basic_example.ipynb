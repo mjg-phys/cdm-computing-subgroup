{
 "cells": [
  {
   "cell_type": "code",
   "execution_count": 1,
   "metadata": {},
   "outputs": [],
   "source": [
    "# basic_example.ipynb\n",
    "# Authors: Stephan Meighen-Berger\n",
    "# Basic Example how to use the detector simulations"
   ]
  },
  {
   "cell_type": "code",
   "execution_count": 2,
   "metadata": {},
   "outputs": [],
   "source": [
    "# imports\n",
    "import numpy as np\n",
    "import matplotlib.pyplot as plt\n",
    "import sys\n",
    "sys.path.append('../')\n",
    "\n",
    "# Module\n",
    "from detectorexample import DetectorExample, config"
   ]
  },
  {
   "cell_type": "code",
   "execution_count": 3,
   "metadata": {},
   "outputs": [
    {
     "name": "stdout",
     "output_type": "stream",
     "text": [
      "Setting up the seed\n",
      "Random Parameters\n",
      "Setting up the detector\n",
      "Setting up the neutrino flux\n",
      "Preliminary rates\n"
     ]
    },
    {
     "name": "stderr",
     "output_type": "stream",
     "text": [
      "/home/unimelb.edu.au/smeighenberg/envs/erebus/lib/python3.10/site-packages/fennel/hadron_cascades.py:184: RuntimeWarning: invalid value encountered in double_scalars\n",
      "  em_fraction_sd = sigma0 * np.log(E)**(-gamma)\n",
      "/home/unimelb.edu.au/smeighenberg/envs/erebus/lib/python3.10/site-packages/fennel/hadron_cascades.py:359: RuntimeWarning: invalid value encountered in double_scalars\n",
      "  a = a_pars[0] * (np.log(E))**a_pars[1]\n",
      "/home/unimelb.edu.au/smeighenberg/envs/erebus/lib/python3.10/site-packages/fennel/hadron_cascades.py:360: RuntimeWarning: invalid value encountered in double_scalars\n",
      "  b = b_pars[0] * (np.log(E))**b_pars[1]\n",
      "/home/unimelb.edu.au/smeighenberg/envs/erebus/lib/python3.10/site-packages/fennel/hadron_cascades.py:361: RuntimeWarning: invalid value encountered in double_scalars\n",
      "  c = c_pars[0] * (np.log(E))**c_pars[1]\n",
      "/home/unimelb.edu.au/smeighenberg/envs/erebus/lib/python3.10/site-packages/fennel/hadron_cascades.py:362: RuntimeWarning: invalid value encountered in double_scalars\n",
      "  d = d_pars[0] * (np.log(E))**d_pars[1]\n",
      "/home/unimelb.edu.au/smeighenberg/envs/erebus/lib/python3.10/site-packages/numpy/lib/function_base.py:4832: RuntimeWarning: overflow encountered in multiply\n",
      "  ret = (d * (y[tuple(slice1)] + y[tuple(slice2)]) / 2.0).sum(axis)\n"
     ]
    }
   ],
   "source": [
    "EventGenerator = DetectorExample()"
   ]
  },
  {
   "cell_type": "code",
   "execution_count": 4,
   "metadata": {},
   "outputs": [],
   "source": [
    "rng = np.random.RandomState(1337)\n",
    "# Generating events\n",
    "spatial_samples_CC, timing_samples_CC, cuts_CC = EventGenerator.event_generator(\n",
    "    EventGenerator._rates['NuE CC'][EventGenerator._e_cut[0]:EventGenerator._e_cut[1]],\n",
    "    rng, 'CC'\n",
    ")\n",
    "\n",
    "spatial_samples_NC, timing_samples_NC, cuts_NC = EventGenerator.event_generator(\n",
    "    (EventGenerator._rates['NuE NC'] + EventGenerator._rates['NuMu NC'])[EventGenerator._e_cut[0]:EventGenerator._e_cut[1]],\n",
    "    rng, 'NC'\n",
    ")"
   ]
  },
  {
   "cell_type": "code",
   "execution_count": 5,
   "metadata": {},
   "outputs": [],
   "source": [
    "# Total counts\n",
    "CC_counts = np.array([\n",
    "    np.sum(cut_e) for cut_e in cuts_CC\n",
    "])\n",
    "NC_counts = np.array([\n",
    "    np.sum(cut_e) for cut_e in cuts_NC\n",
    "])"
   ]
  },
  {
   "cell_type": "code",
   "execution_count": 6,
   "metadata": {},
   "outputs": [
    {
     "data": {
      "image/png": "[encoded data removed]",
      "text/plain": [
       "<Figure size 300x300 with 1 Axes>"
      ]
     },
     "metadata": {},
     "output_type": "display_data"
    }
   ],
   "source": [
    "# Let's plot it\n",
    "# -----------------------------------------------------------\n",
    "# plot\n",
    "fig, ax = plt.subplots(1, 1, figsize=(3,3))\n",
    "\n",
    "ax.step(\n",
    "    EventGenerator._ns_grid[:-1], timing_samples_CC[0][121],\n",
    "    color='r',\n",
    "    ls='-',\n",
    "    label=r'$\\nu_e$ CC'\n",
    "\n",
    ")\n",
    "\n",
    "ax.step(\n",
    "    EventGenerator._ns_grid[:-1], timing_samples_NC[0][30],\n",
    "    color='k',\n",
    "    ls='-',\n",
    "    label=r'$\\nu_e$ NC'\n",
    "\n",
    ")\n",
    "# ax.fill_betweenx([0, 1e5], 0, 1e0, color='k', alpha=0.2)\n",
    "# -----------------------------------------------------------\n",
    "# axis\n",
    "# ax.set_xlim(1e0, 1e1)\n",
    "ax.set_ylim(1e0, 4e3)\n",
    "ax.set_yscale('log')\n",
    "ax.set_xscale('linear')\n",
    "# -----------------------------------------------------------\n",
    "# legend\n",
    "ax.legend(frameon=False, ncols=2, loc=9, bbox_to_anchor=(0.5, 1.2))\n",
    "# -----------------------------------------------------------\n",
    "# labels\n",
    "ax.set_xlabel(r\"t [ns]\")\n",
    "ax.set_ylabel(r\"Counts\")\n",
    "# ax.text(2e-1, 2, \"Ignore\", color='r')\n",
    "ax.tick_params(axis='both', which='both', direction='in', right=True, top=True)\n",
    "fig.tight_layout()\n",
    "# fig.savefig('atmospheric_flux.pdf', bbox_inches='tight', dpi=500)"
   ]
  },
  {
   "cell_type": "code",
   "execution_count": 7,
   "metadata": {},
   "outputs": [
    {
     "data": {
      "image/png": "[encoded data removed]",
      "text/plain": [
       "<Figure size 300x300 with 1 Axes>"
      ]
     },
     "metadata": {},
     "output_type": "display_data"
    }
   ],
   "source": [
    "# Let's plot it\n",
    "# -----------------------------------------------------------\n",
    "# plot\n",
    "fig, ax = plt.subplots(1, 1, figsize=(3,3))\n",
    "\n",
    "ax.step(\n",
    "    EventGenerator._energy_grid[10:22],\n",
    "    EventGenerator._rates['NuE CC'][10:22],\n",
    "    color='r',\n",
    "    ls='-',\n",
    "    label=r'$\\nu_e$ CC'\n",
    "\n",
    ")\n",
    "\n",
    "ax.step(\n",
    "    EventGenerator._energy_grid[10:22],\n",
    "    CC_counts,\n",
    "    color='r',\n",
    "    ls=':',\n",
    "    label=r'$\\nu_e$ CC w/ cuts'\n",
    "\n",
    ")\n",
    "\n",
    "ax.step(\n",
    "    EventGenerator._energy_grid[10:22],\n",
    "    EventGenerator._rates['NuE NC'][10:22] + EventGenerator._rates['NuMu NC'][10:22],\n",
    "    color='k',\n",
    "    ls='-',\n",
    "    label=r'NC'\n",
    "\n",
    ")\n",
    "\n",
    "ax.step(\n",
    "    EventGenerator._energy_grid[10:22],\n",
    "    NC_counts,\n",
    "    color='k',\n",
    "    ls=':',\n",
    "    label=r'NC w/ cuts'\n",
    "\n",
    ")\n",
    "\n",
    "# ax.fill_betweenx([0, 1e5], 0, 1e0, color='k', alpha=0.2)\n",
    "# -----------------------------------------------------------\n",
    "# axis\n",
    "ax.set_xlim(1e0, 1e1)\n",
    "ax.set_ylim(1e0, 4e3)\n",
    "ax.set_yscale('log')\n",
    "ax.set_xscale('linear')\n",
    "# -----------------------------------------------------------\n",
    "# legend\n",
    "ax.legend(frameon=False, ncols=2, loc=9, bbox_to_anchor=(0.5, 1.35))\n",
    "# -----------------------------------------------------------\n",
    "# labels\n",
    "ax.set_xlabel(r\"$E_\\nu$ [GeV]\")\n",
    "ax.set_ylabel(r\"Counts\")\n",
    "# ax.text(2e-1, 2, \"Ignore\", color='r')\n",
    "ax.tick_params(axis='both', which='both', direction='in', right=True, top=True)\n",
    "fig.tight_layout()\n",
    "# fig.savefig('atmospheric_flux.pdf', bbox_inches='tight', dpi=500)"
   ]
  },
  {
   "cell_type": "code",
   "execution_count": 8,
   "metadata": {},
   "outputs": [],
   "source": [
    "cc_ratios = EventGenerator._data_TvsS_test(timing_samples_CC, cuts_CC)\n",
    "nc_ratios = EventGenerator._data_TvsS_test(timing_samples_NC, cuts_NC)"
   ]
  },
  {
   "cell_type": "code",
   "execution_count": 9,
   "metadata": {},
   "outputs": [
    {
     "data": {
      "image/png": "[encoded data removed]",
      "text/plain": [
       "<Figure size 300x300 with 1 Axes>"
      ]
     },
     "metadata": {},
     "output_type": "display_data"
    }
   ],
   "source": [
    "# Let's plot it\n",
    "# -----------------------------------------------------------\n",
    "# plot\n",
    "fig, ax = plt.subplots(1, 1, figsize=(3,3))\n",
    "\n",
    "tmp_bins = np.linspace(0, 3, 20)\n",
    "tmp_centers = (tmp_bins[1:] + tmp_bins[:-1]) / 2\n",
    "\n",
    "cc_binned, _ = np.histogram(cc_ratios, bins=tmp_bins)\n",
    "nc_binned, _ = np.histogram(nc_ratios, bins=tmp_bins)\n",
    "\n",
    "ax.step(\n",
    "    tmp_centers,\n",
    "    cc_binned,\n",
    "    color='r',\n",
    "    ls='-',\n",
    "    label=r'CC'\n",
    ")\n",
    "\n",
    "ax.step(\n",
    "    tmp_centers,\n",
    "    nc_binned,\n",
    "    color='k',\n",
    "    ls='-',\n",
    "    label=r'NC'\n",
    ")\n",
    "\n",
    "ax.axvline(np.percentile(nc_ratios, 10), 0, 1e4, color='k')\n",
    "ax.fill_betweenx([0, 1e4], np.percentile(nc_ratios, 10), 5, color='k', alpha=0.2)\n",
    "\n",
    "# ax.fill_betweenx([0, 1e5], 0, 1e0, color='k', alpha=0.2)\n",
    "# -----------------------------------------------------------\n",
    "# axis\n",
    "ax.set_xlim(0, 4)\n",
    "ax.set_ylim(0, 1e3)\n",
    "ax.set_yscale('linear')\n",
    "ax.set_xscale('linear')\n",
    "# -----------------------------------------------------------\n",
    "# legend\n",
    "ax.legend(frameon=False, ncols=2, loc=9, bbox_to_anchor=(0.5, 1.2))\n",
    "# -----------------------------------------------------------\n",
    "# labels\n",
    "ax.set_xlabel(r\"Ratio\")\n",
    "ax.set_ylabel(r\"Counts\")\n",
    "ax.text(2, 600, \"Cut\", color='r')\n",
    "ax.tick_params(axis='both', which='both', direction='in', right=True, top=True)\n",
    "fig.tight_layout()\n",
    "# fig.savefig('atmospheric_flux.pdf', bbox_inches='tight', dpi=500)"
   ]
  },
  {
   "cell_type": "code",
   "execution_count": 10,
   "metadata": {},
   "outputs": [
    {
     "data": {
      "application/vnd.jupyter.widget-view+json": {
       "model_id": "0587dc4a3ab84d7abd65e60193dbb70f",
       "version_major": 2,
       "version_minor": 0
      },
      "text/plain": [
       "  0%|          | 0/100 [00:00<?, ?it/s]"
      ]
     },
     "metadata": {},
     "output_type": "display_data"
    }
   ],
   "source": [
    "# Running a trial analysis\n",
    "results = EventGenerator._example_analysis(100)"
   ]
  },
  {
   "cell_type": "code",
   "execution_count": 14,
   "metadata": {},
   "outputs": [
    {
     "data": {
      "image/png": "[encoded data removed]",
      "text/plain": [
       "<Figure size 300x300 with 1 Axes>"
      ]
     },
     "metadata": {},
     "output_type": "display_data"
    }
   ],
   "source": [
    "# Let's plot it\n",
    "# -----------------------------------------------------------\n",
    "# plot\n",
    "fig, ax = plt.subplots(1, 1, figsize=(3,3))\n",
    "\n",
    "tmp_bins = np.linspace(0, 3000, 100)\n",
    "tmp_centers = (tmp_bins[1:] + tmp_bins[:-1]) / 2\n",
    "\n",
    "cc_binned, _ = np.histogram(results[2], bins=tmp_bins)\n",
    "nc_binned, _ = np.histogram(results[0], bins=tmp_bins)\n",
    "\n",
    "ax.step(\n",
    "    tmp_centers,\n",
    "    cc_binned,\n",
    "    color='r',\n",
    "    ls='-',\n",
    "    label=r'CC'\n",
    ")\n",
    "\n",
    "ax.step(\n",
    "    tmp_centers,\n",
    "    nc_binned,\n",
    "    color='k',\n",
    "    ls='-',\n",
    "    label=r'NC'\n",
    ")\n",
    "\n",
    "# ax.axvline(np.percentile(nc_ratios, 10), 0, 1e4, color='k')\n",
    "# ax.fill_betweenx([0, 1e4], np.percentile(nc_ratios, 10), 5, color='k', alpha=0.2)\n",
    "\n",
    "# ax.fill_betweenx([0, 1e5], 0, 1e0, color='k', alpha=0.2)\n",
    "# -----------------------------------------------------------\n",
    "# axis\n",
    "# ax.set_xlim(0, 4)\n",
    "# ax.set_ylim(0, 1e3)\n",
    "ax.set_yscale('linear')\n",
    "ax.set_xscale('linear')\n",
    "# -----------------------------------------------------------\n",
    "# legend\n",
    "ax.legend(frameon=False, ncols=2, loc=9, bbox_to_anchor=(0.5, 1.2))\n",
    "# -----------------------------------------------------------\n",
    "# labels\n",
    "ax.set_xlabel(r\"Events\")\n",
    "ax.set_ylabel(r\"Counts\")\n",
    "ax.text(1000, 25, \"With Cuts\", color='r')\n",
    "ax.tick_params(axis='both', which='both', direction='in', right=True, top=True)\n",
    "fig.tight_layout()\n",
    "# fig.savefig('atmospheric_flux.pdf', bbox_inches='tight', dpi=500)"
   ]
  },
  {
   "cell_type": "code",
   "execution_count": null,
   "metadata": {},
   "outputs": [],
   "source": []
  }
 ],
 "metadata": {
  "kernelspec": {
   "display_name": "erebus",
   "language": "python",
   "name": "python3"
  },
  "language_info": {
   "codemirror_mode": {
    "name": "ipython",
    "version": 3
   },
   "file_extension": ".py",
   "mimetype": "text/x-python",
   "name": "python",
   "nbconvert_exporter": "python",
   "pygments_lexer": "ipython3",
   "version": "3.10.12"
  }
 },
 "nbformat": 4,
 "nbformat_minor": 2
}
